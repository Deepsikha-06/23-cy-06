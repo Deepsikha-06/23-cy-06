{
  "nbformat": 4,
  "nbformat_minor": 0,
  "metadata": {
    "colab": {
      "provenance": [],
      "authorship_tag": "ABX9TyNc91PN39A5fhNcYKJ5qLZt",
      "include_colab_link": true
    },
    "kernelspec": {
      "name": "python3",
      "display_name": "Python 3"
    },
    "language_info": {
      "name": "python"
    }
  },
  "cells": [
    {
      "cell_type": "markdown",
      "metadata": {
        "id": "view-in-github",
        "colab_type": "text"
      },
      "source": [
        "<a href=\"https://colab.research.google.com/github/Deepsikha-06/23-cy-06/blob/main/oops_exception.ipynb\" target=\"_parent\"><img src=\"https://colab.research.google.com/assets/colab-badge.svg\" alt=\"Open In Colab\"/></a>"
      ]
    },
    {
      "cell_type": "code",
      "execution_count": 1,
      "metadata": {
        "colab": {
          "base_uri": "https://localhost:8080/"
        },
        "id": "U5_voKpIbc0P",
        "outputId": "1e3a406f-72c8-4942-981b-dbb11f303b83"
      },
      "outputs": [
        {
          "output_type": "execute_result",
          "data": {
            "text/plain": [
              "[]"
            ]
          },
          "metadata": {},
          "execution_count": 1
        }
      ],
      "source": [
        "empty_list = []\n",
        "empty_list"
      ]
    },
    {
      "cell_type": "code",
      "source": [
        "another_empty_list = list()\n",
        "another_empty_list"
      ],
      "metadata": {
        "colab": {
          "base_uri": "https://localhost:8080/"
        },
        "id": "sYxpIhldc4zP",
        "outputId": "e03e71cc-a957-4f3b-e311-021ac1b4f48f"
      },
      "execution_count": 2,
      "outputs": [
        {
          "output_type": "execute_result",
          "data": {
            "text/plain": [
              "[]"
            ]
          },
          "metadata": {},
          "execution_count": 2
        }
      ]
    },
    {
      "cell_type": "code",
      "source": [
        "another_empty_list.append(2)\n",
        "another_empty_list"
      ],
      "metadata": {
        "colab": {
          "base_uri": "https://localhost:8080/"
        },
        "id": "CFd87RiodAPU",
        "outputId": "fe3d6e3b-7fa9-44aa-d643-d784567c0779"
      },
      "execution_count": 3,
      "outputs": [
        {
          "output_type": "execute_result",
          "data": {
            "text/plain": [
              "[2]"
            ]
          },
          "metadata": {},
          "execution_count": 3
        }
      ]
    },
    {
      "cell_type": "code",
      "source": [
        "another_empty_list.append(1)\n",
        "another_empty_list.append(3)\n",
        "another_empty_list"
      ],
      "metadata": {
        "colab": {
          "base_uri": "https://localhost:8080/"
        },
        "id": "nX0hLQYFdEEp",
        "outputId": "1fd09f21-4d6a-4e74-bc1e-59dd619230cb"
      },
      "execution_count": 4,
      "outputs": [
        {
          "output_type": "execute_result",
          "data": {
            "text/plain": [
              "[2, 1, 3]"
            ]
          },
          "metadata": {},
          "execution_count": 4
        }
      ]
    },
    {
      "cell_type": "code",
      "source": [
        "another_empty_list.index(3)"
      ],
      "metadata": {
        "colab": {
          "base_uri": "https://localhost:8080/"
        },
        "id": "o_ugKr4cdLLa",
        "outputId": "3a5d8a85-35b0-4b5e-95f5-42dd6a5e56ea"
      },
      "execution_count": 5,
      "outputs": [
        {
          "output_type": "execute_result",
          "data": {
            "text/plain": [
              "2"
            ]
          },
          "metadata": {},
          "execution_count": 5
        }
      ]
    },
    {
      "cell_type": "code",
      "source": [
        "the_sixth_sense = 6\n",
        "print(type(the_sixth_sense))\n",
        "\n"
      ],
      "metadata": {
        "colab": {
          "base_uri": "https://localhost:8080/"
        },
        "id": "RR4umTwPdP9P",
        "outputId": "a76d433e-6e46-4ee4-93f9-2a83f0a2bf40"
      },
      "execution_count": 7,
      "outputs": [
        {
          "output_type": "stream",
          "name": "stdout",
          "text": [
            "<class 'int'>\n"
          ]
        }
      ]
    },
    {
      "cell_type": "code",
      "source": [
        "two_and_a_half_men = 2.5\n",
        "print(type(two_and_a_half_men))\n",
        "\n"
      ],
      "metadata": {
        "colab": {
          "base_uri": "https://localhost:8080/"
        },
        "id": "lSELqMz5devN",
        "outputId": "6fa6732a-d43c-4114-e4c2-674242e203f9"
      },
      "execution_count": 8,
      "outputs": [
        {
          "output_type": "stream",
          "name": "stdout",
          "text": [
            "<class 'float'>\n"
          ]
        }
      ]
    },
    {
      "cell_type": "code",
      "source": [
        "schindlers_list = list()\n",
        "print(type(schindlers_list))"
      ],
      "metadata": {
        "colab": {
          "base_uri": "https://localhost:8080/"
        },
        "id": "zDC_OFcqdkfh",
        "outputId": "c7db9ca6-433a-47a1-b3ea-362cd1f52a8a"
      },
      "execution_count": 9,
      "outputs": [
        {
          "output_type": "stream",
          "name": "stdout",
          "text": [
            "<class 'list'>\n"
          ]
        }
      ]
    },
    {
      "cell_type": "code",
      "source": [
        "another_list = list()\n",
        "tharoor = {'farrago': 'a confused mixture'}\n",
        "print(type(tharoor))"
      ],
      "metadata": {
        "colab": {
          "base_uri": "https://localhost:8080/"
        },
        "id": "dmf6EKJdeyTH",
        "outputId": "e0561ff4-6d55-49fa-91be-2caabbe69446"
      },
      "execution_count": 10,
      "outputs": [
        {
          "output_type": "stream",
          "name": "stdout",
          "text": [
            "<class 'dict'>\n"
          ]
        }
      ]
    },
    {
      "cell_type": "code",
      "source": [
        "class FirstClass:\n",
        "  pass\n",
        "x = FirstClass()\n",
        "print(type(x))"
      ],
      "metadata": {
        "colab": {
          "base_uri": "https://localhost:8080/"
        },
        "id": "w0vSshHte3Ob",
        "outputId": "e8e5ca2d-137f-4af2-d303-cc1bc2b1cd97"
      },
      "execution_count": 11,
      "outputs": [
        {
          "output_type": "stream",
          "name": "stdout",
          "text": [
            "<class '__main__.FirstClass'>\n"
          ]
        }
      ]
    },
    {
      "cell_type": "code",
      "source": [
        "y = FirstClass()\n",
        "print(type(y))"
      ],
      "metadata": {
        "colab": {
          "base_uri": "https://localhost:8080/"
        },
        "id": "O2VPCfT9e-p4",
        "outputId": "cf0a57e0-641b-4f57-a353-9b183528d9cc"
      },
      "execution_count": 12,
      "outputs": [
        {
          "output_type": "stream",
          "name": "stdout",
          "text": [
            "<class '__main__.FirstClass'>\n"
          ]
        }
      ]
    },
    {
      "cell_type": "code",
      "source": [
        "class Circle:\n",
        "  def __init__(self,radius=1):\n",
        "    self.radius = radius\n",
        "    self.area = 3.14*radius*radius\n",
        "  def setRadius(self, new_radius):\n",
        "    self.radius = new_radius\n",
        "    self.area = 3.14*new_radius*new_radius\n",
        "  def getCircumgerence(self):\n",
        "    return 2*3.14*self.radius\n",
        "c = Circle(2)\n",
        "c.area"
      ],
      "metadata": {
        "colab": {
          "base_uri": "https://localhost:8080/"
        },
        "id": "j8LcKkHIfCJ7",
        "outputId": "eeb92927-651a-4ff5-d340-2f3f7f249aad"
      },
      "execution_count": 13,
      "outputs": [
        {
          "output_type": "execute_result",
          "data": {
            "text/plain": [
              "12.56"
            ]
          },
          "metadata": {},
          "execution_count": 13
        }
      ]
    },
    {
      "cell_type": "code",
      "source": [
        "print('Radius is: ', c.radius)\n",
        "print('Area is: ', c.area)\n",
        "print('Circumference is: ', c.getCircumgerence())"
      ],
      "metadata": {
        "colab": {
          "base_uri": "https://localhost:8080/"
        },
        "id": "sc3tLou_fTh3",
        "outputId": "d9af3ec5-23a7-417f-9e06-b8d7ecc51b38"
      },
      "execution_count": 14,
      "outputs": [
        {
          "output_type": "stream",
          "name": "stdout",
          "text": [
            "Radius is:  2\n",
            "Area is:  12.56\n",
            "Circumference is:  12.56\n"
          ]
        }
      ]
    },
    {
      "cell_type": "code",
      "source": [
        "c.setRadius(5)\n",
        "print('Radius is: ', c.radius)\n",
        "print('Area is: ', c.area)\n",
        "print('Circumference is: ', c.getCircumgerence())"
      ],
      "metadata": {
        "colab": {
          "base_uri": "https://localhost:8080/"
        },
        "id": "-J5JdTJVfVNO",
        "outputId": "2c827cb5-1b1d-4592-9b38-17b90164bb2d"
      },
      "execution_count": 15,
      "outputs": [
        {
          "output_type": "stream",
          "name": "stdout",
          "text": [
            "Radius is:  5\n",
            "Area is:  78.5\n",
            "Circumference is:  31.400000000000002\n"
          ]
        }
      ]
    },
    {
      "cell_type": "code",
      "source": [
        "class HouseStark:\n",
        "  def __init__(self, sigil):\n",
        "    self.sigil = sigil\n",
        "  def motto(self):\n",
        "    return \"House Lannister with sigil \" + self.sigil + \"has the motto 'Winter is coming' \"\n",
        "class HouseLannister:\n",
        "  def __init__(self, sigil):\n",
        "    self.sigil = sigil\n",
        "  def motto(self):\n",
        "    return \"House Lannister with sigil \" + self.sigil + \"has the motto 'Hear me roar' \"\n",
        "arya = HouseStark('direwolf')\n",
        "tyrion = HouseLannister('golden lion')\n",
        "print(arya.motto())"
      ],
      "metadata": {
        "colab": {
          "base_uri": "https://localhost:8080/"
        },
        "id": "sR46f29SfY11",
        "outputId": "89f60a36-d368-4077-a56a-e3f7424c42d2"
      },
      "execution_count": 16,
      "outputs": [
        {
          "output_type": "stream",
          "name": "stdout",
          "text": [
            "House Lannister with sigil direwolfhas the motto 'Winter is coming' \n"
          ]
        }
      ]
    },
    {
      "cell_type": "code",
      "source": [
        "for warrior in [arya, tyrion]:\n",
        "  print(warrior.motto())"
      ],
      "metadata": {
        "colab": {
          "base_uri": "https://localhost:8080/"
        },
        "id": "JHIY2ctAfdpB",
        "outputId": "3c06b5dc-1171-43ce-ca2e-e30ff12958d2"
      },
      "execution_count": 17,
      "outputs": [
        {
          "output_type": "stream",
          "name": "stdout",
          "text": [
            "House Lannister with sigil direwolfhas the motto 'Winter is coming' \n",
            "House Lannister with sigil golden lionhas the motto 'Hear me roar' \n"
          ]
        }
      ]
    },
    {
      "cell_type": "code",
      "source": [
        "for warrior in [arya, tyrion]:\n",
        "  print(warrior.motto())"
      ],
      "metadata": {
        "colab": {
          "base_uri": "https://localhost:8080/"
        },
        "id": "UG2iXEZlgPII",
        "outputId": "eb1d513e-9e7a-45c7-c215-72b67b25a8da"
      },
      "execution_count": 18,
      "outputs": [
        {
          "output_type": "stream",
          "name": "stdout",
          "text": [
            "House Lannister with sigil direwolfhas the motto 'Winter is coming' \n",
            "House Lannister with sigil golden lionhas the motto 'Hear me roar' \n"
          ]
        }
      ]
    },
    {
      "cell_type": "code",
      "source": [
        "def get_motto(warrior):\n",
        "  print(warrior.motto())\n",
        "get_motto(arya)\n",
        "get_motto(tyrion)"
      ],
      "metadata": {
        "colab": {
          "base_uri": "https://localhost:8080/"
        },
        "id": "yJ7995bRgR8o",
        "outputId": "0896516f-eabc-4649-ffcf-8225124a216c"
      },
      "execution_count": 19,
      "outputs": [
        {
          "output_type": "stream",
          "name": "stdout",
          "text": [
            "House Lannister with sigil direwolfhas the motto 'Winter is coming' \n",
            "House Lannister with sigil golden lionhas the motto 'Hear me roar' \n"
          ]
        }
      ]
    },
    {
      "cell_type": "code",
      "source": [
        "print('XGBoost)"
      ],
      "metadata": {
        "colab": {
          "base_uri": "https://localhost:8080/",
          "height": 105
        },
        "id": "0I9m6sUOgU2X",
        "outputId": "dcb88095-a913-44f4-f6ce-81720ce47487"
      },
      "execution_count": 20,
      "outputs": [
        {
          "output_type": "error",
          "ename": "SyntaxError",
          "evalue": "unterminated string literal (detected at line 1) (<ipython-input-20-4c062b08efa2>, line 1)",
          "traceback": [
            "\u001b[0;36m  File \u001b[0;32m\"<ipython-input-20-4c062b08efa2>\"\u001b[0;36m, line \u001b[0;32m1\u001b[0m\n\u001b[0;31m    print('XGBoost)\u001b[0m\n\u001b[0m          ^\u001b[0m\n\u001b[0;31mSyntaxError\u001b[0m\u001b[0;31m:\u001b[0m unterminated string literal (detected at line 1)\n"
          ]
        }
      ]
    },
    {
      "cell_type": "code",
      "source": [
        "try:\n",
        "  You do your operations here...\n",
        "  ...\n",
        "except:\n",
        "  If there is an exception , then execute this block.\n",
        "else:\n",
        "  If there is no exception, then execute this block.\n",
        "try:\n",
        "  print(\"Good to go!\")\n",
        "  print('a', fwdfwdafwf)\n",
        "  print('b')\n",
        "except:\n",
        "  print(\"Oops!\")\n",
        "  print('c')\n",
        "  print('d')\n",
        "else:\n",
        "  print(\"No errors encountered!\")\n",
        "  print('e')\n",
        "  print('f')"
      ],
      "metadata": {
        "colab": {
          "base_uri": "https://localhost:8080/",
          "height": 105
        },
        "id": "XSfdsnnMgX7p",
        "outputId": "87db64ea-5eac-4b7b-a2ac-cd4cc04343a7"
      },
      "execution_count": 21,
      "outputs": [
        {
          "output_type": "error",
          "ename": "SyntaxError",
          "evalue": "invalid syntax (<ipython-input-21-cde6d3eb65d8>, line 2)",
          "traceback": [
            "\u001b[0;36m  File \u001b[0;32m\"<ipython-input-21-cde6d3eb65d8>\"\u001b[0;36m, line \u001b[0;32m2\u001b[0m\n\u001b[0;31m    You do your operations here...\u001b[0m\n\u001b[0m        ^\u001b[0m\n\u001b[0;31mSyntaxError\u001b[0m\u001b[0;31m:\u001b[0m invalid syntax\n"
          ]
        }
      ]
    },
    {
      "cell_type": "code",
      "source": [
        "try:\n",
        "  print(\"Execute try statements\")\n",
        "except:\n",
        "  print(\"Always execute finally code blocks\")"
      ],
      "metadata": {
        "colab": {
          "base_uri": "https://localhost:8080/"
        },
        "id": "0EIE_xb4gbE7",
        "outputId": "1e02038a-bd69-4bba-e1e7-da37e1dc764e"
      },
      "execution_count": 22,
      "outputs": [
        {
          "output_type": "stream",
          "name": "stdout",
          "text": [
            "Execute try statements\n"
          ]
        }
      ]
    },
    {
      "cell_type": "code",
      "source": [
        "a = 1\n",
        "b = 0.2\n",
        "try:\n",
        "  print('abc')\n",
        "except:\n",
        "  print('sddj string is not present')"
      ],
      "metadata": {
        "colab": {
          "base_uri": "https://localhost:8080/"
        },
        "id": "Fo0RpUrZge08",
        "outputId": "7fa2a79c-3e7e-4e88-b838-8f7cabdf293d"
      },
      "execution_count": 23,
      "outputs": [
        {
          "output_type": "stream",
          "name": "stdout",
          "text": [
            "abc\n"
          ]
        }
      ]
    },
    {
      "cell_type": "code",
      "source": [
        "try:\n",
        "  a= 1\n",
        "  print(adefewdwd)\n",
        "  try:\n",
        "    print(type(afggdgdsgg))\n",
        "  except:\n",
        "    print('Error occured')\n",
        "except Exception as ex:\n",
        "  print('The error is : ', ex)\n",
        "  print(b, type(b))"
      ],
      "metadata": {
        "colab": {
          "base_uri": "https://localhost:8080/"
        },
        "id": "MeKMk5t3giLR",
        "outputId": "25b585c2-fd7d-4f74-bd5d-32edf61e37c7"
      },
      "execution_count": 24,
      "outputs": [
        {
          "output_type": "stream",
          "name": "stdout",
          "text": [
            "The error is :  name 'adefewdwd' is not defined\n",
            "0.2 <class 'float'>\n"
          ]
        }
      ]
    }
  ]
}