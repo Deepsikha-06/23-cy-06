{
  "nbformat": 4,
  "nbformat_minor": 0,
  "metadata": {
    "colab": {
      "provenance": [],
      "authorship_tag": "ABX9TyNbywJpOMG+kUE6rwogI39+",
      "include_colab_link": true
    },
    "kernelspec": {
      "name": "python3",
      "display_name": "Python 3"
    },
    "language_info": {
      "name": "python"
    }
  },
  "cells": [
    {
      "cell_type": "markdown",
      "metadata": {
        "id": "view-in-github",
        "colab_type": "text"
      },
      "source": [
        "<a href=\"https://colab.research.google.com/github/Deepsikha-06/23-cy-06/blob/main/comprehension.ipynb\" target=\"_parent\"><img src=\"https://colab.research.google.com/assets/colab-badge.svg\" alt=\"Open In Colab\"/></a>"
      ]
    },
    {
      "cell_type": "code",
      "execution_count": 4,
      "metadata": {
        "colab": {
          "base_uri": "https://localhost:8080/"
        },
        "id": "eIIqUUQxIA18",
        "outputId": "cd52a87d-2612-4244-b0de-cc664a3b6db1"
      },
      "outputs": [
        {
          "output_type": "stream",
          "name": "stdout",
          "text": [
            "the list of squared numbers is [1]\n",
            "the list of squared numbers is [1, 4]\n",
            "the list of squared numbers is [1, 4, 16]\n",
            "the list of squared numbers is [1, 4, 16, 36]\n",
            "the list of squared numbers is [1, 4, 16, 36, 121]\n",
            "the list of squared numbers is [1, 4, 16, 36, 121, 196]\n",
            "the list of squared numbers is [1, 4, 16, 36, 121, 196, 289]\n",
            "the list of squared numbers is [1, 4, 16, 36, 121, 196, 289, 400]\n"
          ]
        }
      ],
      "source": [
        "# the list of number\n",
        "list_of_numbers= [1,2,4,6,11,14,17,20]\n",
        "\n",
        "\n",
        "#let us first initialize a list where we will be appendingthe squares in each iteration\n",
        "\n",
        "squared_numbers=[]\n",
        "\n",
        "for number in list_of_numbers:\n",
        "  #use the append method to add the numbers one by one to our list\n",
        "  squared_numbers.append(number** 2)\n",
        "  #print(squared_numbers)\n",
        "\n",
        "  print(f\"the list of squared numbers is {squared_numbers}\")"
      ]
    },
    {
      "cell_type": "code",
      "source": [
        "#getting the list of squares using list comprehension\n",
        "squared_numbers=[number**2 for number in list_of_numbers]\n",
        "print(squared_numbers)"
      ],
      "metadata": {
        "colab": {
          "base_uri": "https://localhost:8080/"
        },
        "id": "79657LztKH11",
        "outputId": "fa27ba95-99b8-4e78-a365-42918796c822"
      },
      "execution_count": 5,
      "outputs": [
        {
          "output_type": "stream",
          "name": "stdout",
          "text": [
            "[1, 4, 16, 36, 121, 196, 289, 400]\n"
          ]
        }
      ]
    },
    {
      "cell_type": "code",
      "source": [
        "print(list_of_numbers)"
      ],
      "metadata": {
        "colab": {
          "base_uri": "https://localhost:8080/"
        },
        "id": "mbfwsTzjKhRz",
        "outputId": "83c46a1d-54dd-4c40-9b0b-3ab05e393f06"
      },
      "execution_count": 15,
      "outputs": [
        {
          "output_type": "stream",
          "name": "stdout",
          "text": [
            "[1, 2, 4, 6, 11, 14, 17, 20]\n"
          ]
        }
      ]
    },
    {
      "cell_type": "code",
      "source": [],
      "metadata": {
        "id": "BCsnmIKrKowq"
      },
      "execution_count": 8,
      "outputs": []
    },
    {
      "cell_type": "code",
      "source": [
        "#writting list comprehension using conditionals\n",
        "even_squared_numbers = [number**2 for number in list_of_numbers if number%2==0]\n",
        "print(even_squared_numbers)"
      ],
      "metadata": {
        "colab": {
          "base_uri": "https://localhost:8080/"
        },
        "id": "0QSUlHkOJZDy",
        "outputId": "f4e252de-16ef-409b-bdf5-21a3058f54e6"
      },
      "execution_count": 16,
      "outputs": [
        {
          "output_type": "stream",
          "name": "stdout",
          "text": [
            "[4, 16, 36, 196, 400]\n"
          ]
        }
      ]
    },
    {
      "cell_type": "code",
      "source": [],
      "metadata": {
        "id": "RUVf3klCONAX"
      },
      "execution_count": null,
      "outputs": []
    },
    {
      "cell_type": "code",
      "source": [
        "#writting list comprehension using conditionals\n",
        "odd_squared_numbers = [number**2 for number in list_of_numbers if number%2!=0]\n",
        "print(odd_squared_numbers)"
      ],
      "metadata": {
        "colab": {
          "base_uri": "https://localhost:8080/"
        },
        "id": "EqdAf2FVN856",
        "outputId": "48a43ff4-7b6f-4be1-9d6b-c99dfe440e2b"
      },
      "execution_count": 17,
      "outputs": [
        {
          "output_type": "stream",
          "name": "stdout",
          "text": [
            "[1, 121, 289]\n"
          ]
        }
      ]
    },
    {
      "cell_type": "code",
      "source": [
        "#writting list comprehension using conditionals\n",
        "odd_squared_numbers = [number**2 if number%2!=0 else number**3 for number in list_of_numbers]\n",
        "print(odd_squared_numbers)"
      ],
      "metadata": {
        "colab": {
          "base_uri": "https://localhost:8080/"
        },
        "id": "hpI9NIcoOhAc",
        "outputId": "fdacfa0e-15a9-47b4-ab4d-b6be4142c509"
      },
      "execution_count": 18,
      "outputs": [
        {
          "output_type": "stream",
          "name": "stdout",
          "text": [
            "[1, 8, 64, 216, 121, 2744, 289, 8000]\n"
          ]
        }
      ]
    },
    {
      "cell_type": "code",
      "source": [
        "list(range(4))"
      ],
      "metadata": {
        "colab": {
          "base_uri": "https://localhost:8080/"
        },
        "id": "ScMDwlAkO8NY",
        "outputId": "bd4ec254-fc75-4e22-c367-34009e7c627c"
      },
      "execution_count": 19,
      "outputs": [
        {
          "output_type": "execute_result",
          "data": {
            "text/plain": [
              "[0, 1, 2, 3]"
            ]
          },
          "metadata": {},
          "execution_count": 19
        }
      ]
    },
    {
      "cell_type": "code",
      "source": [
        "list_of_numbers=[]\n",
        "\n",
        "for num1 in range(4):\n",
        "  for num2 in range(3):\n",
        "    #print(num1,num2)\n",
        "    list_of_numbers.append(num2)\n",
        "\n",
        "    print(list_of_numbers)"
      ],
      "metadata": {
        "colab": {
          "base_uri": "https://localhost:8080/"
        },
        "id": "8rFSlmbUPJYi",
        "outputId": "7d44d35a-7b64-4324-9d46-4d7e4d344e4a"
      },
      "execution_count": 20,
      "outputs": [
        {
          "output_type": "stream",
          "name": "stdout",
          "text": [
            "[0]\n",
            "[0, 1]\n",
            "[0, 1, 2]\n",
            "[0, 1, 2, 0]\n",
            "[0, 1, 2, 0, 1]\n",
            "[0, 1, 2, 0, 1, 2]\n",
            "[0, 1, 2, 0, 1, 2, 0]\n",
            "[0, 1, 2, 0, 1, 2, 0, 1]\n",
            "[0, 1, 2, 0, 1, 2, 0, 1, 2]\n",
            "[0, 1, 2, 0, 1, 2, 0, 1, 2, 0]\n",
            "[0, 1, 2, 0, 1, 2, 0, 1, 2, 0, 1]\n",
            "[0, 1, 2, 0, 1, 2, 0, 1, 2, 0, 1, 2]\n"
          ]
        }
      ]
    },
    {
      "cell_type": "code",
      "source": [
        "#we can write it in a slightly different way\n",
        "list_of_numbers=[num2 for num1 in range (4)for num2 in range (3)]\n",
        "print(list_of_numbers)"
      ],
      "metadata": {
        "colab": {
          "base_uri": "https://localhost:8080/"
        },
        "id": "9_MdKbChPjs4",
        "outputId": "84f4b235-2327-4f65-bdd4-f3896cd05d60"
      },
      "execution_count": 21,
      "outputs": [
        {
          "output_type": "stream",
          "name": "stdout",
          "text": [
            "[0, 1, 2, 0, 1, 2, 0, 1, 2, 0, 1, 2]\n"
          ]
        }
      ]
    },
    {
      "cell_type": "code",
      "source": [
        "list_of_numbers=[num2**2 for num2 in range(3) for num1 in range(4)]\n",
        "print(list_of_numbers)"
      ],
      "metadata": {
        "colab": {
          "base_uri": "https://localhost:8080/"
        },
        "id": "5oy2QV2LQAOO",
        "outputId": "01dd0946-8e1c-4469-cbbf-e82858adff41"
      },
      "execution_count": 22,
      "outputs": [
        {
          "output_type": "stream",
          "name": "stdout",
          "text": [
            "[0, 0, 0, 0, 1, 1, 1, 1, 4, 4, 4, 4]\n"
          ]
        }
      ]
    },
    {
      "cell_type": "code",
      "source": [
        "sample=[[]]\n",
        "len(sample)\n",
        "\n",
        "sample[0]\n"
      ],
      "metadata": {
        "colab": {
          "base_uri": "https://localhost:8080/"
        },
        "id": "4BZZUyTEQTuc",
        "outputId": "97193a0d-dd62-453e-9e0e-d58a295187e7"
      },
      "execution_count": 23,
      "outputs": [
        {
          "output_type": "execute_result",
          "data": {
            "text/plain": [
              "[]"
            ]
          },
          "metadata": {},
          "execution_count": 23
        }
      ]
    },
    {
      "cell_type": "code",
      "source": [
        "list_of_lists=[]\n",
        "for num1 in range(4):\n",
        "  #append an empty sublist inside the list\n",
        "  list_of_lists.append([]) #[[0]], list_of_lists[1]\n",
        "  #print(list_of_lists)\n",
        "\n",
        "  for num2 in range(3):\n",
        "    #append the element within the sublist\n",
        "    list_of_lists[num1].append(num2) #list_of_list[0]\n",
        "\n",
        "    print(list_of_lists)"
      ],
      "metadata": {
        "colab": {
          "base_uri": "https://localhost:8080/"
        },
        "id": "vXE-B5IbQdkh",
        "outputId": "eea128d0-d92e-434d-d036-441f4e11ef7e"
      },
      "execution_count": 28,
      "outputs": [
        {
          "output_type": "stream",
          "name": "stdout",
          "text": [
            "[[0]]\n",
            "[[0, 1]]\n",
            "[[0, 1, 2]]\n",
            "[[0, 1, 2], [0]]\n",
            "[[0, 1, 2], [0, 1]]\n",
            "[[0, 1, 2], [0, 1, 2]]\n",
            "[[0, 1, 2], [0, 1, 2], [0]]\n",
            "[[0, 1, 2], [0, 1, 2], [0, 1]]\n",
            "[[0, 1, 2], [0, 1, 2], [0, 1, 2]]\n",
            "[[0, 1, 2], [0, 1, 2], [0, 1, 2], [0]]\n",
            "[[0, 1, 2], [0, 1, 2], [0, 1, 2], [0, 1]]\n",
            "[[0, 1, 2], [0, 1, 2], [0, 1, 2], [0, 1, 2]]\n"
          ]
        }
      ]
    },
    {
      "cell_type": "code",
      "source": [
        "#using list comprehension we can write the same thing\n",
        "list_of_lists=[[num2 for num2 in range(3)] for num1 in range(4)]\n",
        "print(list_of_lists)"
      ],
      "metadata": {
        "colab": {
          "base_uri": "https://localhost:8080/"
        },
        "id": "-1F5NnAHWTUg",
        "outputId": "06ad1dd8-6bc0-4baa-9b5f-bd2592c25603"
      },
      "execution_count": 30,
      "outputs": [
        {
          "output_type": "stream",
          "name": "stdout",
          "text": [
            "[[0, 1, 2], [0, 1, 2], [0, 1, 2], [0, 1, 2]]\n"
          ]
        }
      ]
    },
    {
      "cell_type": "code",
      "source": [
        "#using list comprehension we can write the same thing\n",
        "list_of_lists=[[num1 for num2 in range(3)] for num1 in range(4)]\n",
        "print(list_of_lists)"
      ],
      "metadata": {
        "colab": {
          "base_uri": "https://localhost:8080/"
        },
        "id": "XQC2NMXmW2IJ",
        "outputId": "e60fda3f-8ddf-4f86-b94f-720038da8c83"
      },
      "execution_count": 31,
      "outputs": [
        {
          "output_type": "stream",
          "name": "stdout",
          "text": [
            "[[0, 0, 0], [1, 1, 1], [2, 2, 2], [3, 3, 3]]\n"
          ]
        }
      ]
    },
    {
      "cell_type": "code",
      "source": [
        "heisenberg_quote=\"it ceases to exist without me. no, you clearly don't know who you're talking to, so let me clue you in. i am not in dang\"\n",
        "\n",
        "word_by_walter= heisenberg_quote.split(' ')\n",
        "print(word_by_walter)"
      ],
      "metadata": {
        "colab": {
          "base_uri": "https://localhost:8080/"
        },
        "id": "r0sZW8d0XIU6",
        "outputId": "632ff9db-dad9-40c4-8853-034d30efc35c"
      },
      "execution_count": 35,
      "outputs": [
        {
          "output_type": "stream",
          "name": "stdout",
          "text": [
            "['it', 'ceases', 'to', 'exist', 'without', 'me.', 'no,', 'you', 'clearly', \"don't\", 'know', 'who', \"you're\", 'talking', 'to,', 'so', 'let', 'me', 'clue', 'you', 'in.', 'i', 'am', 'not', 'in', 'dang']\n"
          ]
        }
      ]
    },
    {
      "cell_type": "code",
      "source": [
        "heisenberg_quote.split('t')"
      ],
      "metadata": {
        "colab": {
          "base_uri": "https://localhost:8080/"
        },
        "id": "iRauGgpKZKhf",
        "outputId": "31758667-3b73-47b2-ec81-4a7324b8c69f"
      },
      "execution_count": 36,
      "outputs": [
        {
          "output_type": "execute_result",
          "data": {
            "text/plain": [
              "['i',\n",
              " ' ceases ',\n",
              " 'o exis',\n",
              " ' wi',\n",
              " 'hou',\n",
              " \" me. no, you clearly don'\",\n",
              " \" know who you're \",\n",
              " 'alking ',\n",
              " 'o, so le',\n",
              " ' me clue you in. i am no',\n",
              " ' in dang']"
            ]
          },
          "metadata": {},
          "execution_count": 36
        }
      ]
    },
    {
      "cell_type": "code",
      "source": [
        "#let u store the first letter of each word in another list\n",
        "\n",
        "first_letter=[]\n",
        "\n",
        "for word in word_by_walter:\n",
        "  first_letter.append(word[0])\n",
        "\n",
        "  #print the first_letter list\n",
        "  print(first_letter)"
      ],
      "metadata": {
        "colab": {
          "base_uri": "https://localhost:8080/"
        },
        "id": "kc_9uOWlZQnN",
        "outputId": "49616857-0f9e-4fc8-edfe-1871f78c09f3"
      },
      "execution_count": 37,
      "outputs": [
        {
          "output_type": "stream",
          "name": "stdout",
          "text": [
            "['i']\n",
            "['i', 'c']\n",
            "['i', 'c', 't']\n",
            "['i', 'c', 't', 'e']\n",
            "['i', 'c', 't', 'e', 'w']\n",
            "['i', 'c', 't', 'e', 'w', 'm']\n",
            "['i', 'c', 't', 'e', 'w', 'm', 'n']\n",
            "['i', 'c', 't', 'e', 'w', 'm', 'n', 'y']\n",
            "['i', 'c', 't', 'e', 'w', 'm', 'n', 'y', 'c']\n",
            "['i', 'c', 't', 'e', 'w', 'm', 'n', 'y', 'c', 'd']\n",
            "['i', 'c', 't', 'e', 'w', 'm', 'n', 'y', 'c', 'd', 'k']\n",
            "['i', 'c', 't', 'e', 'w', 'm', 'n', 'y', 'c', 'd', 'k', 'w']\n",
            "['i', 'c', 't', 'e', 'w', 'm', 'n', 'y', 'c', 'd', 'k', 'w', 'y']\n",
            "['i', 'c', 't', 'e', 'w', 'm', 'n', 'y', 'c', 'd', 'k', 'w', 'y', 't']\n",
            "['i', 'c', 't', 'e', 'w', 'm', 'n', 'y', 'c', 'd', 'k', 'w', 'y', 't', 't']\n",
            "['i', 'c', 't', 'e', 'w', 'm', 'n', 'y', 'c', 'd', 'k', 'w', 'y', 't', 't', 's']\n",
            "['i', 'c', 't', 'e', 'w', 'm', 'n', 'y', 'c', 'd', 'k', 'w', 'y', 't', 't', 's', 'l']\n",
            "['i', 'c', 't', 'e', 'w', 'm', 'n', 'y', 'c', 'd', 'k', 'w', 'y', 't', 't', 's', 'l', 'm']\n",
            "['i', 'c', 't', 'e', 'w', 'm', 'n', 'y', 'c', 'd', 'k', 'w', 'y', 't', 't', 's', 'l', 'm', 'c']\n",
            "['i', 'c', 't', 'e', 'w', 'm', 'n', 'y', 'c', 'd', 'k', 'w', 'y', 't', 't', 's', 'l', 'm', 'c', 'y']\n",
            "['i', 'c', 't', 'e', 'w', 'm', 'n', 'y', 'c', 'd', 'k', 'w', 'y', 't', 't', 's', 'l', 'm', 'c', 'y', 'i']\n",
            "['i', 'c', 't', 'e', 'w', 'm', 'n', 'y', 'c', 'd', 'k', 'w', 'y', 't', 't', 's', 'l', 'm', 'c', 'y', 'i', 'i']\n",
            "['i', 'c', 't', 'e', 'w', 'm', 'n', 'y', 'c', 'd', 'k', 'w', 'y', 't', 't', 's', 'l', 'm', 'c', 'y', 'i', 'i', 'a']\n",
            "['i', 'c', 't', 'e', 'w', 'm', 'n', 'y', 'c', 'd', 'k', 'w', 'y', 't', 't', 's', 'l', 'm', 'c', 'y', 'i', 'i', 'a', 'n']\n",
            "['i', 'c', 't', 'e', 'w', 'm', 'n', 'y', 'c', 'd', 'k', 'w', 'y', 't', 't', 's', 'l', 'm', 'c', 'y', 'i', 'i', 'a', 'n', 'i']\n",
            "['i', 'c', 't', 'e', 'w', 'm', 'n', 'y', 'c', 'd', 'k', 'w', 'y', 't', 't', 's', 'l', 'm', 'c', 'y', 'i', 'i', 'a', 'n', 'i', 'd']\n"
          ]
        }
      ]
    },
    {
      "cell_type": "code",
      "source": [
        "#the same task but now with list comprehension\n",
        "first_letter=[word[0] for word in word_by_walter]\n",
        "print(first_letter)"
      ],
      "metadata": {
        "colab": {
          "base_uri": "https://localhost:8080/"
        },
        "id": "q0YHH_y2Zq0i",
        "outputId": "ad2e0a06-17b8-4bfb-eeca-459d586523bb"
      },
      "execution_count": 38,
      "outputs": [
        {
          "output_type": "stream",
          "name": "stdout",
          "text": [
            "['i', 'c', 't', 'e', 'w', 'm', 'n', 'y', 'c', 'd', 'k', 'w', 'y', 't', 't', 's', 'l', 'm', 'c', 'y', 'i', 'i', 'a', 'n', 'i', 'd']\n"
          ]
        }
      ]
    },
    {
      "cell_type": "code",
      "source": [
        "heisenberg_quote.split(',')"
      ],
      "metadata": {
        "colab": {
          "base_uri": "https://localhost:8080/"
        },
        "id": "uLiILnWlZ8Pj",
        "outputId": "4fd0d489-6f14-46c1-f18d-c5b00a6f9ce5"
      },
      "execution_count": 39,
      "outputs": [
        {
          "output_type": "execute_result",
          "data": {
            "text/plain": [
              "['it ceases to exist without me. no',\n",
              " \" you clearly don't know who you're talking to\",\n",
              " ' so let me clue you in. i am not in dang']"
            ]
          },
          "metadata": {},
          "execution_count": 39
        }
      ]
    },
    {
      "cell_type": "code",
      "source": [
        "my_string='alphabet inc.'\n",
        "\n",
        "list_of_character=[char for char in my_string]\n",
        "print(list_of_character)"
      ],
      "metadata": {
        "colab": {
          "base_uri": "https://localhost:8080/"
        },
        "id": "4_JBqRTzaDUK",
        "outputId": "f09060b1-cffc-4cd1-b998-dfab88fd8461"
      },
      "execution_count": 40,
      "outputs": [
        {
          "output_type": "stream",
          "name": "stdout",
          "text": [
            "['a', 'l', 'p', 'h', 'a', 'b', 'e', 't', ' ', 'i', 'n', 'c', '.']\n"
          ]
        }
      ]
    },
    {
      "cell_type": "code",
      "source": [
        "#suppose we have a tuple of days\n",
        "days=('monday','tuesday','wednesday','thursday','friday','saturday','sunday')\n",
        "\n",
        "tuple(day for day in days)"
      ],
      "metadata": {
        "colab": {
          "base_uri": "https://localhost:8080/"
        },
        "id": "9vlUp2ZKaYT3",
        "outputId": "8011ff54-c1f2-421e-8b39-766557b118b0"
      },
      "execution_count": 41,
      "outputs": [
        {
          "output_type": "execute_result",
          "data": {
            "text/plain": [
              "('monday', 'tuesday', 'wednesday', 'thursday', 'friday', 'saturday', 'sunday')"
            ]
          },
          "metadata": {},
          "execution_count": 41
        }
      ]
    },
    {
      "cell_type": "code",
      "source": [
        "#let us create a tuple where we want to remove the word 'day'nfrom each tuple element\n",
        "day_without_day= tuple([day[:-3] for day in days])\n",
        "print(day_without_day)"
      ],
      "metadata": {
        "colab": {
          "base_uri": "https://localhost:8080/"
        },
        "id": "aaE866t9a6b8",
        "outputId": "bdb16d39-f36b-4390-8d71-c4bac4a51ae1"
      },
      "execution_count": 42,
      "outputs": [
        {
          "output_type": "stream",
          "name": "stdout",
          "text": [
            "('mon', 'tues', 'wednes', 'thurs', 'fri', 'satur', 'sun')\n"
          ]
        }
      ]
    },
    {
      "cell_type": "code",
      "source": [
        "#using a for loop\n",
        "first_letter= set()\n",
        "for word in word_by_walter:\n",
        "  first_letter.add(word[0])\n",
        "\n",
        "  print(first_letter)"
      ],
      "metadata": {
        "colab": {
          "base_uri": "https://localhost:8080/"
        },
        "id": "9v0qWJJAbZz9",
        "outputId": "368e626d-5cbf-4b7d-d45d-7ef5b7e83d1d"
      },
      "execution_count": 43,
      "outputs": [
        {
          "output_type": "stream",
          "name": "stdout",
          "text": [
            "{'i'}\n",
            "{'i', 'c'}\n",
            "{'i', 'c', 't'}\n",
            "{'i', 'c', 't', 'e'}\n",
            "{'i', 'c', 'e', 'w', 't'}\n",
            "{'i', 'c', 'e', 'm', 'w', 't'}\n",
            "{'i', 'c', 'e', 'n', 'm', 'w', 't'}\n",
            "{'i', 'c', 'e', 'n', 'm', 'y', 'w', 't'}\n",
            "{'i', 'c', 'e', 'n', 'm', 'y', 'w', 't'}\n",
            "{'i', 'c', 'e', 'n', 'm', 'y', 'w', 'd', 't'}\n",
            "{'i', 'c', 'e', 'n', 'm', 'y', 'k', 'w', 'd', 't'}\n",
            "{'i', 'c', 'e', 'n', 'm', 'y', 'k', 'w', 'd', 't'}\n",
            "{'i', 'c', 'e', 'n', 'm', 'y', 'k', 'w', 'd', 't'}\n",
            "{'i', 'c', 'e', 'n', 'm', 'y', 'k', 'w', 'd', 't'}\n",
            "{'i', 'c', 'e', 'n', 'm', 'y', 'k', 'w', 'd', 't'}\n",
            "{'i', 'c', 'e', 'n', 'm', 's', 'y', 'k', 'w', 'd', 't'}\n",
            "{'i', 'c', 'e', 'n', 'm', 's', 'l', 'y', 'k', 'w', 'd', 't'}\n",
            "{'i', 'c', 'e', 'n', 'm', 's', 'l', 'y', 'k', 'w', 'd', 't'}\n",
            "{'i', 'c', 'e', 'n', 'm', 's', 'l', 'y', 'k', 'w', 'd', 't'}\n",
            "{'i', 'c', 'e', 'n', 'm', 's', 'l', 'y', 'k', 'w', 'd', 't'}\n",
            "{'i', 'c', 'e', 'n', 'm', 's', 'l', 'y', 'k', 'w', 'd', 't'}\n",
            "{'i', 'c', 'e', 'n', 'm', 's', 'l', 'y', 'k', 'w', 'd', 't'}\n",
            "{'i', 'c', 'e', 'n', 'm', 's', 'l', 'y', 'k', 'w', 'd', 'a', 't'}\n",
            "{'i', 'c', 'e', 'n', 'm', 's', 'l', 'y', 'k', 'w', 'd', 'a', 't'}\n",
            "{'i', 'c', 'e', 'n', 'm', 's', 'l', 'y', 'k', 'w', 'd', 'a', 't'}\n",
            "{'i', 'c', 'e', 'n', 'm', 's', 'l', 'y', 'k', 'w', 'd', 'a', 't'}\n"
          ]
        }
      ]
    },
    {
      "cell_type": "code",
      "source": [],
      "metadata": {
        "id": "PtAUnaDcbw6R"
      },
      "execution_count": null,
      "outputs": []
    },
    {
      "cell_type": "code",
      "source": [
        "#using set comprehension\n",
        "first_letter={word[0] for word in word_by_walter}\n",
        "print(first_letter)"
      ],
      "metadata": {
        "colab": {
          "base_uri": "https://localhost:8080/"
        },
        "id": "gka4-pN0biKm",
        "outputId": "286758d1-58a2-4b74-b894-88a8db0431bc"
      },
      "execution_count": 44,
      "outputs": [
        {
          "output_type": "stream",
          "name": "stdout",
          "text": [
            "{'i', 'c', 'e', 'n', 'm', 's', 'l', 'y', 'k', 'w', 'd', 'a', 't'}\n"
          ]
        }
      ]
    },
    {
      "cell_type": "code",
      "source": [
        "country_city_list= [('india','new delhi'),('australia','canberra'),('united states','washington dc'),('england','london')]\n",
        "\n",
        "#lets convert the list of tuple to a dictionary\n",
        "country_city_dict=dict(country_city_list)\n",
        "print(country_city_dict)"
      ],
      "metadata": {
        "colab": {
          "base_uri": "https://localhost:8080/"
        },
        "id": "41InmXDzbybI",
        "outputId": "2d2a547a-ac33-46b4-8405-ff6d8c2ce895"
      },
      "execution_count": 51,
      "outputs": [
        {
          "output_type": "stream",
          "name": "stdout",
          "text": [
            "{'india': 'new delhi', 'australia': 'canberra', 'united states': 'washington dc', 'england': 'london'}\n"
          ]
        }
      ]
    },
    {
      "cell_type": "code",
      "source": [
        "#the conventional for loop approach\n",
        "flipped={}\n",
        "for country, city in country_city_dict.items():\n",
        "  flipped[city]=country\n",
        "  print(flipped)"
      ],
      "metadata": {
        "colab": {
          "base_uri": "https://localhost:8080/"
        },
        "id": "GSM-Wc0HcsRx",
        "outputId": "20cfd585-4246-451a-9d91-1d12937adb00"
      },
      "execution_count": 53,
      "outputs": [
        {
          "output_type": "stream",
          "name": "stdout",
          "text": [
            "{'new delhi': 'india'}\n",
            "{'new delhi': 'india', 'canberra': 'australia'}\n",
            "{'new delhi': 'india', 'canberra': 'australia', 'washington dc': 'united states'}\n",
            "{'new delhi': 'india', 'canberra': 'australia', 'washington dc': 'united states', 'london': 'england'}\n"
          ]
        }
      ]
    },
    {
      "cell_type": "code",
      "source": [
        "#the new dictionary comprehension\n",
        "flipped= {city:country for country, city in country_city_dict.items()}\n",
        "print(flipped)"
      ],
      "metadata": {
        "colab": {
          "base_uri": "https://localhost:8080/"
        },
        "id": "q9RPmMFbdla5",
        "outputId": "563af016-154e-4cad-a44d-0dd68e8b3c2f"
      },
      "execution_count": 54,
      "outputs": [
        {
          "output_type": "stream",
          "name": "stdout",
          "text": [
            "{'new delhi': 'india', 'canberra': 'australia', 'washington dc': 'united states', 'london': 'england'}\n"
          ]
        }
      ]
    },
    {
      "cell_type": "code",
      "source": [
        "#we can further add conditionals\n",
        "flipped={city:country for country,  city in country_city_dict.items() if country[0]in ['e','a']}\n",
        "print(flipped)"
      ],
      "metadata": {
        "colab": {
          "base_uri": "https://localhost:8080/"
        },
        "id": "YyDpLdiKdmDI",
        "outputId": "760282bc-a172-4ee0-9dc6-40243010eaf7"
      },
      "execution_count": 55,
      "outputs": [
        {
          "output_type": "stream",
          "name": "stdout",
          "text": [
            "{'canberra': 'australia', 'london': 'england'}\n"
          ]
        }
      ]
    },
    {
      "cell_type": "code",
      "source": [
        "#the new dictionary comprehension\n",
        "flipped={country[:2]:city[-2:] for country, city in country_city_dict.items()}\n",
        "print(flipped)\n"
      ],
      "metadata": {
        "colab": {
          "base_uri": "https://localhost:8080/"
        },
        "id": "MFNXvXeaej_R",
        "outputId": "35f9b03a-bca8-4b20-d7ba-6d763e2035e1"
      },
      "execution_count": 56,
      "outputs": [
        {
          "output_type": "stream",
          "name": "stdout",
          "text": [
            "{'in': 'hi', 'au': 'ra', 'un': 'dc', 'en': 'on'}\n"
          ]
        }
      ]
    },
    {
      "cell_type": "code",
      "source": [
        "print(country_city_dict)"
      ],
      "metadata": {
        "colab": {
          "base_uri": "https://localhost:8080/"
        },
        "id": "PAwh-JVnfBhY",
        "outputId": "e76b2f41-7716-4588-93a3-aef9d7189cd2"
      },
      "execution_count": 57,
      "outputs": [
        {
          "output_type": "stream",
          "name": "stdout",
          "text": [
            "{'india': 'new delhi', 'australia': 'canberra', 'united states': 'washington dc', 'england': 'london'}\n"
          ]
        }
      ]
    }
  ]
}