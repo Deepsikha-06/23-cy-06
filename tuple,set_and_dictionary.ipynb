{
  "nbformat": 4,
  "nbformat_minor": 0,
  "metadata": {
    "colab": {
      "provenance": [],
      "authorship_tag": "ABX9TyOoIgaQ24H9cBibH+DDdV/O",
      "include_colab_link": true
    },
    "kernelspec": {
      "name": "python3",
      "display_name": "Python 3"
    },
    "language_info": {
      "name": "python"
    }
  },
  "cells": [
    {
      "cell_type": "markdown",
      "metadata": {
        "id": "view-in-github",
        "colab_type": "text"
      },
      "source": [
        "<a href=\"https://colab.research.google.com/github/Deepsikha-06/23-cy-06/blob/main/tuple%2Cset_and_dictionary.ipynb\" target=\"_parent\"><img src=\"https://colab.research.google.com/assets/colab-badge.svg\" alt=\"Open In Colab\"/></a>"
      ]
    },
    {
      "cell_type": "code",
      "execution_count": 1,
      "metadata": {
        "colab": {
          "base_uri": "https://localhost:8080/"
        },
        "id": "BTfIQ02MWALi",
        "outputId": "2f3c3ede-2005-45e8-dd95-5e715ad678b6"
      },
      "outputs": [
        {
          "output_type": "stream",
          "name": "stdout",
          "text": [
            "(1, 'a', 3)\n"
          ]
        }
      ],
      "source": [
        "#create a tuple\n",
        "my_tuple=(1,'a',3)\n",
        "\n",
        "print(my_tuple)"
      ]
    },
    {
      "cell_type": "code",
      "source": [
        "type(my_tuple)"
      ],
      "metadata": {
        "colab": {
          "base_uri": "https://localhost:8080/"
        },
        "id": "OeVXpgTfWwkv",
        "outputId": "3e8fe9d3-f36d-420c-d257-e22f4e30c37e"
      },
      "execution_count": 2,
      "outputs": [
        {
          "output_type": "execute_result",
          "data": {
            "text/plain": [
              "tuple"
            ]
          },
          "metadata": {},
          "execution_count": 2
        }
      ]
    },
    {
      "cell_type": "code",
      "source": [
        "#can also mix object types\n",
        "another_tuple= ('one',2,4.53, 'asbc')\n",
        "\n",
        "#show\n",
        "another_tuple"
      ],
      "metadata": {
        "colab": {
          "base_uri": "https://localhost:8080/"
        },
        "id": "QPlVggsMW2hR",
        "outputId": "c378eaa3-35a1-454d-85f4-d6fb8ab02456"
      },
      "execution_count": 3,
      "outputs": [
        {
          "output_type": "execute_result",
          "data": {
            "text/plain": [
              "('one', 2, 4.53, 'asbc')"
            ]
          },
          "metadata": {},
          "execution_count": 3
        }
      ]
    },
    {
      "cell_type": "code",
      "source": [
        "my_list=[1]\n",
        "\n",
        "type(my_list)\n"
      ],
      "metadata": {
        "colab": {
          "base_uri": "https://localhost:8080/"
        },
        "id": "wJ8K8ExWXNj5",
        "outputId": "3ec85eac-4bca-4ff4-a71f-9528ead42619"
      },
      "execution_count": 4,
      "outputs": [
        {
          "output_type": "execute_result",
          "data": {
            "text/plain": [
              "list"
            ]
          },
          "metadata": {},
          "execution_count": 4
        }
      ]
    },
    {
      "cell_type": "code",
      "source": [
        "my_tuple=(1,)\n",
        "type(my_tuple)\n"
      ],
      "metadata": {
        "colab": {
          "base_uri": "https://localhost:8080/"
        },
        "id": "5kOpSipWXYqe",
        "outputId": "c5c3440a-5cd5-4331-c339-e2a87b48092a"
      },
      "execution_count": 5,
      "outputs": [
        {
          "output_type": "execute_result",
          "data": {
            "text/plain": [
              "tuple"
            ]
          },
          "metadata": {},
          "execution_count": 5
        }
      ]
    },
    {
      "cell_type": "code",
      "source": [
        "my_tuple=(1,2,3,4)\n",
        "len(my_tuple)"
      ],
      "metadata": {
        "colab": {
          "base_uri": "https://localhost:8080/"
        },
        "id": "krxAKANMXpxD",
        "outputId": "c0c40ceb-08b0-474d-a7a6-09622f34358d"
      },
      "execution_count": 6,
      "outputs": [
        {
          "output_type": "execute_result",
          "data": {
            "text/plain": [
              "4"
            ]
          },
          "metadata": {},
          "execution_count": 6
        }
      ]
    },
    {
      "cell_type": "code",
      "source": [
        "print(another_tuple)"
      ],
      "metadata": {
        "colab": {
          "base_uri": "https://localhost:8080/"
        },
        "id": "qdZ4sPuoX1rX",
        "outputId": "144fe145-4c16-4921-bbf1-1d938d320f96"
      },
      "execution_count": 7,
      "outputs": [
        {
          "output_type": "stream",
          "name": "stdout",
          "text": [
            "('one', 2, 4.53, 'asbc')\n"
          ]
        }
      ]
    },
    {
      "cell_type": "code",
      "source": [
        "#grab the element at index 0, which is the FIRST element\n",
        "another_tuple[0]"
      ],
      "metadata": {
        "colab": {
          "base_uri": "https://localhost:8080/",
          "height": 35
        },
        "id": "wiCgoju8X7Lj",
        "outputId": "5fdada67-da88-4b03-cb50-7e3dbb2286f6"
      },
      "execution_count": 9,
      "outputs": [
        {
          "output_type": "execute_result",
          "data": {
            "text/plain": [
              "'one'"
            ],
            "application/vnd.google.colaboratory.intrinsic+json": {
              "type": "string"
            }
          },
          "metadata": {},
          "execution_count": 9
        }
      ]
    },
    {
      "cell_type": "code",
      "source": [
        "#grab the element at index 3, which is the FOURTH element\n",
        "another_tuple[3]"
      ],
      "metadata": {
        "colab": {
          "base_uri": "https://localhost:8080/",
          "height": 35
        },
        "id": "CFvYV_gZYJA8",
        "outputId": "1c1dfa9a-0996-4f97-bed0-12d46fcb8dbc"
      },
      "execution_count": 10,
      "outputs": [
        {
          "output_type": "execute_result",
          "data": {
            "text/plain": [
              "'asbc'"
            ],
            "application/vnd.google.colaboratory.intrinsic+json": {
              "type": "string"
            }
          },
          "metadata": {},
          "execution_count": 10
        }
      ]
    },
    {
      "cell_type": "code",
      "source": [
        "#grab the element at the index -1,which is the LASTelement\n",
        "another_tuple[-1]"
      ],
      "metadata": {
        "colab": {
          "base_uri": "https://localhost:8080/",
          "height": 35
        },
        "id": "iotq3HU8YZtt",
        "outputId": "08768a3b-6572-48a9-cee8-d286101d2414"
      },
      "execution_count": 11,
      "outputs": [
        {
          "output_type": "execute_result",
          "data": {
            "text/plain": [
              "'asbc'"
            ],
            "application/vnd.google.colaboratory.intrinsic+json": {
              "type": "string"
            }
          },
          "metadata": {},
          "execution_count": 11
        }
      ]
    },
    {
      "cell_type": "code",
      "source": [
        "#grab the element at the index -3, which is the THIRD LAST element\n",
        "another_tuple[-3]\n"
      ],
      "metadata": {
        "colab": {
          "base_uri": "https://localhost:8080/"
        },
        "id": "p7r-6Rs2YoXJ",
        "outputId": "09fcbae3-9bb3-4e00-8874-7c0660b01249"
      },
      "execution_count": 12,
      "outputs": [
        {
          "output_type": "execute_result",
          "data": {
            "text/plain": [
              "2"
            ]
          },
          "metadata": {},
          "execution_count": 12
        }
      ]
    },
    {
      "cell_type": "code",
      "source": [
        "#print our list\n",
        "print(another_tuple)"
      ],
      "metadata": {
        "colab": {
          "base_uri": "https://localhost:8080/"
        },
        "id": "PSaTnqyzY_Ua",
        "outputId": "229c0705-755f-4665-c208-36c9bfc74c1f"
      },
      "execution_count": 13,
      "outputs": [
        {
          "output_type": "stream",
          "name": "stdout",
          "text": [
            "('one', 2, 4.53, 'asbc')\n"
          ]
        }
      ]
    },
    {
      "cell_type": "code",
      "source": [
        "#grab the elememt starting from index 1 and everything past it\n",
        "another_tuple[1:3]"
      ],
      "metadata": {
        "colab": {
          "base_uri": "https://localhost:8080/"
        },
        "id": "gs4H_2V3ZScy",
        "outputId": "d8d27e5e-3a6a-449c-f846-d2ce979c59ce"
      },
      "execution_count": 14,
      "outputs": [
        {
          "output_type": "execute_result",
          "data": {
            "text/plain": [
              "(2, 4.53)"
            ]
          },
          "metadata": {},
          "execution_count": 14
        }
      ]
    },
    {
      "cell_type": "code",
      "source": [
        "#grab everything starting from index 2\n",
        "another_tuple[2:]"
      ],
      "metadata": {
        "colab": {
          "base_uri": "https://localhost:8080/"
        },
        "id": "8PwmKYWlZlDN",
        "outputId": "f413e703-3a97-477a-fd6f-740040dd8678"
      },
      "execution_count": 15,
      "outputs": [
        {
          "output_type": "execute_result",
          "data": {
            "text/plain": [
              "(4.53, 'asbc')"
            ]
          },
          "metadata": {},
          "execution_count": 15
        }
      ]
    },
    {
      "cell_type": "code",
      "source": [
        "#grab everything starting from index 2\n",
        "another_tuple[2:]"
      ],
      "metadata": {
        "colab": {
          "base_uri": "https://localhost:8080/"
        },
        "id": "kYmRrpfKZ0fJ",
        "outputId": "cbe0da5d-ee8c-49c4-8443-de4b77baadae"
      },
      "execution_count": 16,
      "outputs": [
        {
          "output_type": "execute_result",
          "data": {
            "text/plain": [
              "(4.53, 'asbc')"
            ]
          },
          "metadata": {},
          "execution_count": 16
        }
      ]
    },
    {
      "cell_type": "code",
      "source": [
        "#grab everything before the index 4\n",
        "another_tuple[:6]"
      ],
      "metadata": {
        "colab": {
          "base_uri": "https://localhost:8080/"
        },
        "id": "WQpcmKaDaAq4",
        "outputId": "cb5793ee-5dab-4145-e08e-fb2eda63ae4a"
      },
      "execution_count": 17,
      "outputs": [
        {
          "output_type": "execute_result",
          "data": {
            "text/plain": [
              "('one', 2, 4.53, 'asbc')"
            ]
          },
          "metadata": {},
          "execution_count": 17
        }
      ]
    },
    {
      "cell_type": "code",
      "source": [
        "#grab everything\n",
        "another_tuple"
      ],
      "metadata": {
        "colab": {
          "base_uri": "https://localhost:8080/"
        },
        "id": "PxXP2wQZaVoa",
        "outputId": "b298651d-e95d-4d44-ef6d-c234a176918f"
      },
      "execution_count": 18,
      "outputs": [
        {
          "output_type": "execute_result",
          "data": {
            "text/plain": [
              "('one', 2, 4.53, 'asbc')"
            ]
          },
          "metadata": {},
          "execution_count": 18
        }
      ]
    },
    {
      "cell_type": "code",
      "source": [
        "#grab the LAST FOUR elements of the list\n",
        "another_tuple[-4:]\n"
      ],
      "metadata": {
        "colab": {
          "base_uri": "https://localhost:8080/"
        },
        "id": "DK-H_D_kaiGq",
        "outputId": "0b23680c-82f9-4d4d-9a5b-5076e1a945be"
      },
      "execution_count": 19,
      "outputs": [
        {
          "output_type": "execute_result",
          "data": {
            "text/plain": [
              "('one', 2, 4.53, 'asbc')"
            ]
          },
          "metadata": {},
          "execution_count": 19
        }
      ]
    },
    {
      "cell_type": "code",
      "source": [
        "#check len just like a list\n",
        "len(another_tuple)"
      ],
      "metadata": {
        "colab": {
          "base_uri": "https://localhost:8080/"
        },
        "id": "jy7z9GgGa2h9",
        "outputId": "c2d95138-e1b6-47e6-cff9-862bfbd3b52c"
      },
      "execution_count": 20,
      "outputs": [
        {
          "output_type": "execute_result",
          "data": {
            "text/plain": [
              "4"
            ]
          },
          "metadata": {},
          "execution_count": 20
        }
      ]
    },
    {
      "cell_type": "code",
      "source": [
        "random_tuple= (1,2,5,6)\n",
        "\n",
        "sorted(random_tuple)\n"
      ],
      "metadata": {
        "colab": {
          "base_uri": "https://localhost:8080/"
        },
        "id": "8RwFtO02bBVI",
        "outputId": "65817330-89fa-43f7-f991-70506195cb30"
      },
      "execution_count": 21,
      "outputs": [
        {
          "output_type": "execute_result",
          "data": {
            "text/plain": [
              "[1, 2, 5, 6]"
            ]
          },
          "metadata": {},
          "execution_count": 21
        }
      ]
    },
    {
      "cell_type": "code",
      "source": [
        "my_object={}\n",
        "\n",
        "type(my_object)\n"
      ],
      "metadata": {
        "colab": {
          "base_uri": "https://localhost:8080/"
        },
        "id": "HUt0URRObOAK",
        "outputId": "5c3b0e52-8fd7-4c0c-ef29-20c4784446dd"
      },
      "execution_count": 22,
      "outputs": [
        {
          "output_type": "execute_result",
          "data": {
            "text/plain": [
              "dict"
            ]
          },
          "metadata": {},
          "execution_count": 22
        }
      ]
    },
    {
      "cell_type": "code",
      "source": [
        "my_set= set()\n",
        "\n",
        "type(my_set)"
      ],
      "metadata": {
        "colab": {
          "base_uri": "https://localhost:8080/"
        },
        "id": "MnqRZi22bhU6",
        "outputId": "fd7c3739-b7fd-4aa3-bd1a-a42d09c9a429"
      },
      "execution_count": 23,
      "outputs": [
        {
          "output_type": "execute_result",
          "data": {
            "text/plain": [
              "set"
            ]
          },
          "metadata": {},
          "execution_count": 23
        }
      ]
    },
    {
      "cell_type": "code",
      "source": [
        "#create a list with repeats\n",
        "my_list=[1,1,2,2,3,4,5,6,1,1]\n",
        "\n",
        "#cast as set to get unique values\n",
        "my_set= set(my_list)\n",
        "\n",
        "my_set"
      ],
      "metadata": {
        "colab": {
          "base_uri": "https://localhost:8080/"
        },
        "id": "Sn8hsQgLbqEx",
        "outputId": "b0d68573-2598-4f62-c5ce-9a3937a5c3be"
      },
      "execution_count": 24,
      "outputs": [
        {
          "output_type": "execute_result",
          "data": {
            "text/plain": [
              "{1, 2, 3, 4, 5, 6}"
            ]
          },
          "metadata": {},
          "execution_count": 24
        }
      ]
    },
    {
      "cell_type": "code",
      "source": [
        "#a set cannot have mutable items\n",
        "my_set= {1,2,(3,4)}\n",
        "\n",
        "#but we can have tuples as set elements, they are immutable\n",
        "my_set={1,2,(2,3)}\n",
        "\n",
        "my_set"
      ],
      "metadata": {
        "colab": {
          "base_uri": "https://localhost:8080/"
        },
        "id": "oXQ2mO1icH-Q",
        "outputId": "07b7832c-2845-4f3f-e222-ba604a958f97"
      },
      "execution_count": 25,
      "outputs": [
        {
          "output_type": "execute_result",
          "data": {
            "text/plain": [
              "{(2, 3), 1, 2}"
            ]
          },
          "metadata": {},
          "execution_count": 25
        }
      ]
    },
    {
      "cell_type": "code",
      "source": [
        "my_set"
      ],
      "metadata": {
        "colab": {
          "base_uri": "https://localhost:8080/"
        },
        "id": "sspdL6r3c7qg",
        "outputId": "80d0d917-fb64-4cb1-fa43-2a7ec7bbc21e"
      },
      "execution_count": 28,
      "outputs": [
        {
          "output_type": "execute_result",
          "data": {
            "text/plain": [
              "{(2, 3), 1, 2}"
            ]
          },
          "metadata": {},
          "execution_count": 28
        }
      ]
    },
    {
      "cell_type": "code",
      "source": [
        "#we add to sets with the add()method\n",
        "my_set= set()\n",
        "my_set.add('a')\n",
        "\n",
        "#show\n",
        "my_set"
      ],
      "metadata": {
        "colab": {
          "base_uri": "https://localhost:8080/"
        },
        "id": "maqW0UyKdP5y",
        "outputId": "34c326f5-2cdf-446b-a6a8-4883c0681ce7"
      },
      "execution_count": 29,
      "outputs": [
        {
          "output_type": "execute_result",
          "data": {
            "text/plain": [
              "{'a'}"
            ]
          },
          "metadata": {},
          "execution_count": 29
        }
      ]
    },
    {
      "cell_type": "code",
      "source": [
        "#show\n",
        "my_set"
      ],
      "metadata": {
        "colab": {
          "base_uri": "https://localhost:8080/"
        },
        "id": "5dsE_ng-dmP1",
        "outputId": "cda7332f-5eb1-4bbf-eced-4acd16b15fb0"
      },
      "execution_count": 30,
      "outputs": [
        {
          "output_type": "execute_result",
          "data": {
            "text/plain": [
              "{'a'}"
            ]
          },
          "metadata": {},
          "execution_count": 30
        }
      ]
    },
    {
      "cell_type": "code",
      "source": [
        "#add a different element\n",
        "my_set.add(2)\n",
        "\n",
        "#show\n",
        "print(my_set)"
      ],
      "metadata": {
        "colab": {
          "base_uri": "https://localhost:8080/"
        },
        "id": "nLAl0IxSdtN-",
        "outputId": "c87a7b51-517c-4a83-f4a5-74a5a64f257b"
      },
      "execution_count": 35,
      "outputs": [
        {
          "output_type": "stream",
          "name": "stdout",
          "text": [
            "{'a', 2}\n"
          ]
        }
      ]
    },
    {
      "cell_type": "code",
      "source": [
        "#make a dictionary with {} and : to signify a key and a value\n",
        "marvel_dict={'name':'thor','place':'asgard','weapon':'hammer',1:2,3:'power','alibies':['ironman','captain america'],'abc':{1:2}}\n",
        "\n",
        "#call value by their key\n",
        "marvel_dict['place']"
      ],
      "metadata": {
        "colab": {
          "base_uri": "https://localhost:8080/",
          "height": 35
        },
        "id": "avGR6Oz_d3Xg",
        "outputId": "124f9944-4fc7-48f4-a81b-504b97ba05f8"
      },
      "execution_count": 38,
      "outputs": [
        {
          "output_type": "execute_result",
          "data": {
            "text/plain": [
              "'asgard'"
            ],
            "application/vnd.google.colaboratory.intrinsic+json": {
              "type": "string"
            }
          },
          "metadata": {},
          "execution_count": 38
        }
      ]
    },
    {
      "cell_type": "code",
      "source": [
        "type(marvel_dict)"
      ],
      "metadata": {
        "colab": {
          "base_uri": "https://localhost:8080/"
        },
        "id": "iNZ2oisTfidz",
        "outputId": "d26904ef-771c-4108-ea88-ebf46982ea04"
      },
      "execution_count": 39,
      "outputs": [
        {
          "output_type": "execute_result",
          "data": {
            "text/plain": [
              "dict"
            ]
          },
          "metadata": {},
          "execution_count": 39
        }
      ]
    },
    {
      "cell_type": "code",
      "source": [
        "marvel_dict['name']\n"
      ],
      "metadata": {
        "colab": {
          "base_uri": "https://localhost:8080/",
          "height": 35
        },
        "id": "jRmUvKdKfnaj",
        "outputId": "073b3a65-c43a-49a2-e896-8304170122bf"
      },
      "execution_count": 40,
      "outputs": [
        {
          "output_type": "execute_result",
          "data": {
            "text/plain": [
              "'thor'"
            ],
            "application/vnd.google.colaboratory.intrinsic+json": {
              "type": "string"
            }
          },
          "metadata": {},
          "execution_count": 40
        }
      ]
    },
    {
      "cell_type": "code",
      "source": [
        "marvel_dict['weapon']"
      ],
      "metadata": {
        "colab": {
          "base_uri": "https://localhost:8080/",
          "height": 35
        },
        "id": "ir8gMPMJfsk4",
        "outputId": "7ac2506c-139f-43a6-f573-4057815fb00c"
      },
      "execution_count": 41,
      "outputs": [
        {
          "output_type": "execute_result",
          "data": {
            "text/plain": [
              "'hammer'"
            ],
            "application/vnd.google.colaboratory.intrinsic+json": {
              "type": "string"
            }
          },
          "metadata": {},
          "execution_count": 41
        }
      ]
    },
    {
      "cell_type": "code",
      "source": [
        "marvel_dict['alibies']"
      ],
      "metadata": {
        "colab": {
          "base_uri": "https://localhost:8080/"
        },
        "id": "pXIUNvAGfyBo",
        "outputId": "bb106bf4-cad5-41f1-dcd7-0467981ed267"
      },
      "execution_count": 42,
      "outputs": [
        {
          "output_type": "execute_result",
          "data": {
            "text/plain": [
              "['ironman', 'captain america']"
            ]
          },
          "metadata": {},
          "execution_count": 42
        }
      ]
    },
    {
      "cell_type": "code",
      "source": [
        "type(marvel_dict['abc'])"
      ],
      "metadata": {
        "colab": {
          "base_uri": "https://localhost:8080/"
        },
        "id": "hOAQx0u0f4r7",
        "outputId": "de3e08cb-bebe-4af0-a2aa-1596129bb8db"
      },
      "execution_count": 43,
      "outputs": [
        {
          "output_type": "execute_result",
          "data": {
            "text/plain": [
              "dict"
            ]
          },
          "metadata": {},
          "execution_count": 43
        }
      ]
    },
    {
      "cell_type": "code",
      "source": [
        "country_list=['india','australia','united states','england']\n",
        "city_list=['new delhi','canberra','washington dc','london']\n",
        "\n",
        "country_city_list= list(zip(country_list,city_list))\n",
        "\n",
        "country_city_list"
      ],
      "metadata": {
        "colab": {
          "base_uri": "https://localhost:8080/"
        },
        "id": "qUGzyPfOgHbe",
        "outputId": "2032420e-1f13-45d3-e93d-282fce03a951"
      },
      "execution_count": 45,
      "outputs": [
        {
          "output_type": "execute_result",
          "data": {
            "text/plain": [
              "[('india', 'new delhi'),\n",
              " ('australia', 'canberra'),\n",
              " ('united states', 'washington dc'),\n",
              " ('england', 'london')]"
            ]
          },
          "metadata": {},
          "execution_count": 45
        }
      ]
    },
    {
      "cell_type": "code",
      "source": [
        "dict(country_city_list)"
      ],
      "metadata": {
        "colab": {
          "base_uri": "https://localhost:8080/"
        },
        "id": "KQ2I_z6zhE6C",
        "outputId": "c85469cf-8e1a-467c-a775-60fccf19e0dc"
      },
      "execution_count": 46,
      "outputs": [
        {
          "output_type": "execute_result",
          "data": {
            "text/plain": [
              "{'india': 'new delhi',\n",
              " 'australia': 'canberra',\n",
              " 'united states': 'washington dc',\n",
              " 'england': 'london'}"
            ]
          },
          "metadata": {},
          "execution_count": 46
        }
      ]
    },
    {
      "cell_type": "code",
      "source": [
        "#let us create a list of paired tuple\n",
        "country_city_tuple=[('india','new delhi'),('australia','canberra'),('united states','washington dc'),('england','london')]\n",
        "\n",
        "country_city_dict=dict(country_city_tuple)\n",
        "\n",
        "country_city_dict"
      ],
      "metadata": {
        "colab": {
          "base_uri": "https://localhost:8080/"
        },
        "id": "bpb2Ew00hMcQ",
        "outputId": "8e9f2b30-f038-4596-94ad-f98b097b6ab5"
      },
      "execution_count": 47,
      "outputs": [
        {
          "output_type": "execute_result",
          "data": {
            "text/plain": [
              "{'india': 'new delhi',\n",
              " 'australia': 'canberra',\n",
              " 'united states': 'washington dc',\n",
              " 'england': 'london'}"
            ]
          },
          "metadata": {},
          "execution_count": 47
        }
      ]
    },
    {
      "cell_type": "code",
      "source": [
        "country_city_dict.pop('england')"
      ],
      "metadata": {
        "colab": {
          "base_uri": "https://localhost:8080/",
          "height": 35
        },
        "id": "0H8T3z5vicJt",
        "outputId": "869264d7-21a7-4da1-ea97-b05e0357088d"
      },
      "execution_count": 48,
      "outputs": [
        {
          "output_type": "execute_result",
          "data": {
            "text/plain": [
              "'london'"
            ],
            "application/vnd.google.colaboratory.intrinsic+json": {
              "type": "string"
            }
          },
          "metadata": {},
          "execution_count": 48
        }
      ]
    },
    {
      "cell_type": "code",
      "source": [
        "country_city_dict"
      ],
      "metadata": {
        "colab": {
          "base_uri": "https://localhost:8080/"
        },
        "id": "6eWxvL-bimYS",
        "outputId": "43b8b9f0-4018-4d06-9d03-5e4d0724424c"
      },
      "execution_count": 49,
      "outputs": [
        {
          "output_type": "execute_result",
          "data": {
            "text/plain": [
              "{'india': 'new delhi',\n",
              " 'australia': 'canberra',\n",
              " 'united states': 'washington dc'}"
            ]
          },
          "metadata": {},
          "execution_count": 49
        }
      ]
    },
    {
      "cell_type": "code",
      "source": [
        "element_to_pop= country_city_dict.pop\n",
        "\n",
        "element_to_pop"
      ],
      "metadata": {
        "colab": {
          "base_uri": "https://localhost:8080/"
        },
        "id": "Q9_aJBLdi4T6",
        "outputId": "c4f001fc-09f6-402b-c7cb-632bf6d1848e"
      },
      "execution_count": 52,
      "outputs": [
        {
          "output_type": "execute_result",
          "data": {
            "text/plain": [
              "<function dict.pop>"
            ]
          },
          "metadata": {},
          "execution_count": 52
        }
      ]
    },
    {
      "cell_type": "code",
      "source": [
        "country_city_dict"
      ],
      "metadata": {
        "colab": {
          "base_uri": "https://localhost:8080/"
        },
        "id": "KezFz1xgjQHY",
        "outputId": "84e1c978-6d82-4a90-f042-917eb9b99c62"
      },
      "execution_count": 53,
      "outputs": [
        {
          "output_type": "execute_result",
          "data": {
            "text/plain": [
              "{'india': 'new delhi',\n",
              " 'australia': 'canberra',\n",
              " 'united states': 'washington dc'}"
            ]
          },
          "metadata": {},
          "execution_count": 53
        }
      ]
    },
    {
      "cell_type": "code",
      "source": [
        "name=[\"manjeet\",\"nikhil\",\"shambhavi\"]\n",
        "marks=[40,50,60]\n",
        "\n",
        "mapped=zip(name,marks)\n",
        "\n",
        "mapped"
      ],
      "metadata": {
        "colab": {
          "base_uri": "https://localhost:8080/"
        },
        "id": "WLSqikLKjVD0",
        "outputId": "4fe75095-0586-4e87-a1ba-ecbb17541877"
      },
      "execution_count": 54,
      "outputs": [
        {
          "output_type": "execute_result",
          "data": {
            "text/plain": [
              "<zip at 0x7d4c52050f00>"
            ]
          },
          "metadata": {},
          "execution_count": 54
        }
      ]
    },
    {
      "cell_type": "code",
      "source": [
        "print(dict(mapped))"
      ],
      "metadata": {
        "colab": {
          "base_uri": "https://localhost:8080/"
        },
        "id": "hKCrRAc7js6k",
        "outputId": "0b1fc6d0-6d2f-4c5b-e14c-9eb419460869"
      },
      "execution_count": 55,
      "outputs": [
        {
          "output_type": "stream",
          "name": "stdout",
          "text": [
            "{'manjeet': 40, 'nikhil': 50, 'shambhavi': 60}\n"
          ]
        }
      ]
    },
    {
      "cell_type": "code",
      "source": [
        "name=[\"manjeet\",\"nikhil\",\"shambhavi\"]\n",
        "marks=[40,50,60]\n",
        "\n",
        "mapped= zip(name,marks)\n",
        "\n",
        "print(dict(mapped))"
      ],
      "metadata": {
        "colab": {
          "base_uri": "https://localhost:8080/"
        },
        "id": "rFeruMajjynI",
        "outputId": "d72d2842-ee25-4fee-cb5d-917394ce247c"
      },
      "execution_count": 56,
      "outputs": [
        {
          "output_type": "stream",
          "name": "stdout",
          "text": [
            "{'manjeet': 40, 'nikhil': 50, 'shambhavi': 60}\n"
          ]
        }
      ]
    }
  ]
}