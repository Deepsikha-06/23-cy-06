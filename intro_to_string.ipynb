{
  "nbformat": 4,
  "nbformat_minor": 0,
  "metadata": {
    "colab": {
      "provenance": [],
      "authorship_tag": "ABX9TyM/XaaWm15Js7UQ+V3x12p0",
      "include_colab_link": true
    },
    "kernelspec": {
      "name": "python3",
      "display_name": "Python 3"
    },
    "language_info": {
      "name": "python"
    }
  },
  "cells": [
    {
      "cell_type": "markdown",
      "metadata": {
        "id": "view-in-github",
        "colab_type": "text"
      },
      "source": [
        "<a href=\"https://colab.research.google.com/github/Deepsikha-06/23-cy-06/blob/main/intro_to_string.ipynb\" target=\"_parent\"><img src=\"https://colab.research.google.com/assets/colab-badge.svg\" alt=\"Open In Colab\"/></a>"
      ]
    },
    {
      "cell_type": "code",
      "execution_count": null,
      "metadata": {
        "colab": {
          "base_uri": "https://localhost:8080/"
        },
        "id": "h1vRwcgnDDSf",
        "outputId": "ab5b1900-2e29-4bb3-dce7-6f8986f26033"
      },
      "outputs": [
        {
          "output_type": "stream",
          "name": "stdout",
          "text": [
            "statistics set at the heart of machine learning\n",
            "string built with double quotes\n",
            "i'm using single quotes, but this will create an error\n",
            "i\"m using single quotes, but this will create an error\n",
            "principal component analysis!\n",
            "s\n",
            "n\n",
            "!\n",
            "s\n",
            "principal component analysis!\n",
            "rincipal component analysis!\n",
            "component analysis!\n",
            "nc\n",
            "in\n",
            "principal component analysis!\n",
            "principal component analysis!\n",
            "principal component analysis!\n",
            "pnp mntnys\n",
            " left plus right makesmodi rahul\n",
            "rahul modi\n",
            "i am none other thanvikash   srivastava. i am a data scientist\n"
          ]
        }
      ],
      "source": [
        "y#single word\n",
        "myyfirst_string=\"algebra\"\n",
        "my_first_string\n",
        "\n",
        "#entire phase\n",
        "phrase='statistics set at the heart of machine learning'\n",
        "print(phrase)\n",
        "\n",
        "#statement to get the type of the variable\n",
        "type(phrase)\n",
        "\n",
        "#we can also use double quote\n",
        "my_string=\"string built with double quotes\"\n",
        "print(my_string)  #use the print command\n",
        "\n",
        "#be careful with the quotes!\n",
        "sentence= 'i\\'m using single quotes, but this will create an error'\n",
        "print(sentence)\n",
        "\n",
        "sentence=\"i\\\"m using single quotes, but this will create an error\"\n",
        "print(sentence)\n",
        "\n",
        "hastag=\"#\"\n",
        "\n",
        "type(hastag)\n",
        "\n",
        "#assign string as a string\n",
        "string= 'principal component analysis!'\n",
        "\n",
        "#print the object\n",
        "print(string)\n",
        "\n",
        "#show first element(in this case a letter)\n",
        "print(string[-2])\n",
        "\n",
        "print(string[15])\n",
        "\n",
        "len(string)\n",
        "\n",
        "#grab the element at the index -1, which is the LAST element\n",
        "print(string[28])\n",
        "\n",
        "print(string[-2])\n",
        "\n",
        "#grab everything past the first term all the way to the length of s which is len(s)\n",
        "print(string)\n",
        "print(string[1:])\n",
        "\n",
        "string[13]\n",
        "\n",
        "string[13]\n",
        "\n",
        "#grab everything starting from index 10 till index 18\n",
        "print(string[10:])\n",
        "\n",
        "print(string[3:5])\n",
        "\n",
        "print(string[2:4])\n",
        "\n",
        "#everything\n",
        "print(string[:])\n",
        "print(string)\n",
        "\n",
        "#last letter(one index behind 0 so it loops back around)\n",
        "string[-2]\n",
        "\n",
        "string[-1:-4]\n",
        "\n",
        "#grab everything, but go in steps size of 1\n",
        "print(string)\n",
        "print(string[::3])\n",
        "\n",
        "first_name='rahul'\n",
        "last_name='modi'\n",
        "\n",
        "full_name=f' left plus right makes{last_name} {first_name}' #use {} to print the variable you want to\n",
        "print(full_name)\n",
        "\n",
        "print(first_name + ' '+last_name)\n",
        "\n",
        "first_name='vikash'\n",
        "middle_name=' '\n",
        "last_name='srivastava'\n",
        "full_name=f'i am none other than{first_name} {middle_name} {last_name}. i am a data scientist'\n",
        "print(full_name)\n",
        "\n",
        "\n",
        "\n",
        "\n",
        "\n",
        "\n"
      ]
    }
  ]
}